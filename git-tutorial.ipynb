{
 "cells": [
  {
   "cell_type": "markdown",
   "metadata": {
    "nbpresent": {
     "id": "1f1df6c7-7448-4b32-a1c3-023ffaa1eb5a"
    }
   },
   "source": [
    "# Git: Make version control great again!  "
   ]
  },
  {
   "cell_type": "markdown",
   "metadata": {},
   "source": [
    "## Sources for this tutorial\n",
    "This tutorial is adapted from the [Version control for fun and profit](https://github.com/jakevdp/git-intro/blob/master/git-intro.ipynb) by Jake Vanderplas. \n",
    "\n",
    "Some of the images used below are copied from [A successful Git branching model](http://nvie.com/posts/a-successful-git-branching-model/) by Vincent Driessen."
   ]
  },
  {
   "cell_type": "markdown",
   "metadata": {},
   "source": [
    "## Git vs GitHub\n",
    "Before going into how Git and GitHub work we should first make a distinction between them:\n",
    "\n",
    "**Git** - Version control softwate that tracks and maganges changes in source code and other text based files.\n",
    "\n",
    "**GitHub** - Hosting server for Git repositories, designed to enable collaborations between code developers.\n",
    "\n",
    "For the first part of this tutorial we will focus on Git only before moving our repository to GitHub and exploring the edvantages this gives us."
   ]
  },
  {
   "cell_type": "markdown",
   "metadata": {},
   "source": [
    "## Setting up Git\n",
    "Before we start using Git we need to set it up first. The only two options which are required is your name and email address which are used to identify your commits locally. These should be the same as your GitHub credentials if you intend to use it later. "
   ]
  },
  {
   "cell_type": "code",
   "execution_count": 1,
   "metadata": {
    "collapsed": true
   },
   "outputs": [],
   "source": [
    "%%bash\n",
    "git config --global user.name \"Szymon Prajs\"\n",
    "git config --global user.email \"S.Prajs@soton.ac.uk\""
   ]
  },
  {
   "cell_type": "markdown",
   "metadata": {},
   "source": [
    "Something that isn't necessary but will make your life **a lot** easier is changing your default text editor. Git uses `Vi` as default and unless you were born in the 70s you probably either never heard of it or at least don't know how to close it without killing your terminal window. I use `Atom` which is a fantastic text editor currently taking the world by storm. \n",
    "\n",
    "It is written by the same developers as Git and GitHub and its main advantage is that uses `.git` files as its project managment files, allowing for code autocompletions and much more with absolutely no extra setup. \n",
    "\n",
    "This is again just a single command:"
   ]
  },
  {
   "cell_type": "code",
   "execution_count": 2,
   "metadata": {
    "collapsed": true
   },
   "outputs": [],
   "source": [
    "%%bash\n",
    "git config --global core.editor \"atom --wait\""
   ]
  },
  {
   "cell_type": "markdown",
   "metadata": {},
   "source": [
    "Last, and very optional, setting is to enable Git to colour the output. This is particularly useful for large commits and logs."
   ]
  },
  {
   "cell_type": "code",
   "execution_count": 3,
   "metadata": {
    "collapsed": false
   },
   "outputs": [],
   "source": [
    "%%bash\n",
    "git config --global color.ui \"auto\""
   ]
  },
  {
   "cell_type": "markdown",
   "metadata": {},
   "source": [
    "## Sample project\n",
    "\n",
    "We can start by create a simple file to represent our project. From now on I will do most of the code changes in `Atom` and use this notebook as a terminal when using Git."
   ]
  },
  {
   "cell_type": "code",
   "execution_count": 4,
   "metadata": {
    "collapsed": false
   },
   "outputs": [
    {
     "name": "stdout",
     "output_type": "stream",
     "text": [
      ".\n",
      "..\n",
      "first_file.txt\n"
     ]
    }
   ],
   "source": [
    "%%bash\n",
    "cd ~/Projects\n",
    "rm -r git-test; mkdir git-test; cd git-test\n",
    "\n",
    "echo \"Hello World\" > first_file.txt\n",
    "ls -a"
   ]
  },
  {
   "cell_type": "markdown",
   "metadata": {},
   "source": [
    "## `git init`\n",
    "\n",
    "Now that we have an exciting project we can tell Git to start looking after it. It's as easy as:"
   ]
  },
  {
   "cell_type": "code",
   "execution_count": 5,
   "metadata": {
    "collapsed": false
   },
   "outputs": [
    {
     "name": "stdout",
     "output_type": "stream",
     "text": [
      "Initialized empty Git repository in /Users/szymon/Projects/git-test/.git/\n"
     ]
    }
   ],
   "source": [
    "%%bash\n",
    "cd ~/Projects/git-test\n",
    "\n",
    "git init"
   ]
  },
  {
   "cell_type": "markdown",
   "metadata": {},
   "source": [
    "Looking at the project directory you can see that a new folder has been added. It is **crucial** that you never delete this folder or you will loose all your version control history. Deleting it doesn't delete any of your code but if you do not use GitHub you loose all your previous code versions and all but your currect branch."
   ]
  },
  {
   "cell_type": "code",
   "execution_count": 6,
   "metadata": {
    "collapsed": false
   },
   "outputs": [
    {
     "name": "stdout",
     "output_type": "stream",
     "text": [
      ".\n",
      "..\n",
      ".git\n",
      "first_file.txt\n"
     ]
    }
   ],
   "source": [
    "%%bash\n",
    "cd ~/Projects/git-test\n",
    "\n",
    "ls -a"
   ]
  },
  {
   "cell_type": "markdown",
   "metadata": {},
   "source": [
    "We can now check what git sees in our project folder"
   ]
  },
  {
   "cell_type": "code",
   "execution_count": 7,
   "metadata": {
    "collapsed": false
   },
   "outputs": [
    {
     "name": "stdout",
     "output_type": "stream",
     "text": [
      "On branch master\n",
      "\n",
      "Initial commit\n",
      "\n",
      "Untracked files:\n",
      "  (use \"git add <file>...\" to include in what will be committed)\n",
      "\n",
      "\tfirst_file.txt\n",
      "\n",
      "nothing added to commit but untracked files present (use \"git add\" to track)\n"
     ]
    }
   ],
   "source": [
    "%%bash\n",
    "cd ~/Projects/git-test\n",
    " \n",
    "git status"
   ]
  },
  {
   "cell_type": "markdown",
   "metadata": {},
   "source": [
    "## `git add`\n",
    "\n",
    "Git does not track any files in your project folder automatically. You have to specify which files you want it to follow. When possible it is always a good idea to add the files individually to avoid addinging any temporary files by accident. "
   ]
  },
  {
   "cell_type": "code",
   "execution_count": 8,
   "metadata": {
    "collapsed": false
   },
   "outputs": [],
   "source": [
    "%%bash\n",
    "cd ~/Projects/git-test\n",
    "\n",
    "git add first_file.txt"
   ]
  },
  {
   "cell_type": "markdown",
   "metadata": {},
   "source": [
    "However, you can force Git to add follow all files in your directory using the `--all` flag"
   ]
  },
  {
   "cell_type": "code",
   "execution_count": 9,
   "metadata": {
    "collapsed": true
   },
   "outputs": [],
   "source": [
    "%%bash\n",
    "cd ~/Projects/git-test\n",
    "\n",
    "git add --all"
   ]
  },
  {
   "cell_type": "markdown",
   "metadata": {},
   "source": [
    "Now if we check the `status` of our repository again we see that it looks different. "
   ]
  },
  {
   "cell_type": "code",
   "execution_count": 10,
   "metadata": {
    "collapsed": false
   },
   "outputs": [
    {
     "name": "stdout",
     "output_type": "stream",
     "text": [
      "On branch master\n",
      "\n",
      "Initial commit\n",
      "\n",
      "Changes to be committed:\n",
      "  (use \"git rm --cached <file>...\" to unstage)\n",
      "\n",
      "\tnew file:   first_file.txt\n",
      "\n"
     ]
    }
   ],
   "source": [
    "%%bash\n",
    "cd ~/Projects/git-test\n",
    "\n",
    "git status"
   ]
  },
  {
   "cell_type": "markdown",
   "metadata": {},
   "source": [
    "## `git commit`\n",
    "\n",
    "Once you have added all the code you can make a permanant record of your changes by running the `commit` command. Each commit is tagged with an internal key and a comment that is set by the user. Once you commit code you will be prompted to describe the changes. A very useful shortcut is to use the `-m` flag to record the commit with a message.  "
   ]
  },
  {
   "cell_type": "code",
   "execution_count": 11,
   "metadata": {
    "collapsed": false
   },
   "outputs": [
    {
     "name": "stdout",
     "output_type": "stream",
     "text": [
      "[master (root-commit) 95587d1] My first commit\n",
      " 1 file changed, 1 insertion(+)\n",
      " create mode 100644 first_file.txt\n"
     ]
    }
   ],
   "source": [
    "%%bash\n",
    "cd ~/Projects/git-test\n",
    "\n",
    "git commit -m \"My first commit\""
   ]
  },
  {
   "cell_type": "markdown",
   "metadata": {},
   "source": [
    "You can check your commit history using the `log` command."
   ]
  },
  {
   "cell_type": "code",
   "execution_count": 12,
   "metadata": {
    "collapsed": false
   },
   "outputs": [
    {
     "name": "stdout",
     "output_type": "stream",
     "text": [
      "commit 95587d1a2870ea1e6deffba1ace7d90a521deb75\n",
      "Author: Szymon Prajs <S.Prajs@soton.ac.uk>\n",
      "Date:   Tue Nov 22 02:22:20 2016 +0000\n",
      "\n",
      "    My first commit\n"
     ]
    }
   ],
   "source": [
    "%%bash\n",
    "cd ~/Projects/git-test\n",
    "\n",
    "git log"
   ]
  },
  {
   "cell_type": "markdown",
   "metadata": {
    "collapsed": true
   },
   "source": [
    "## `git diff`\n",
    "\n",
    "`diff` is a very useful command showing you the lines in which changes have been made since the last commit. Again if you're using `Atom` then your text editor will continuesly show you this by highlighting the edges of changed lines. Let's add a few more things for fun and check what we've done. "
   ]
  },
  {
   "cell_type": "code",
   "execution_count": 14,
   "metadata": {
    "collapsed": false
   },
   "outputs": [
    {
     "name": "stdout",
     "output_type": "stream",
     "text": [
      "diff --git a/first_file.txt b/first_file.txt\n",
      "index 557db03..0df75d8 100644\n",
      "--- a/first_file.txt\n",
      "+++ b/first_file.txt\n",
      "@@ -1 +1,3 @@\n",
      " Hello World\n",
      "+\n",
      "+STUPID line here\n"
     ]
    }
   ],
   "source": [
    "%%bash\n",
    "cd ~/Projects/git-test\n",
    "\n",
    "git diff"
   ]
  },
  {
   "cell_type": "markdown",
   "metadata": {},
   "source": [
    "Now just add and commit the changes"
   ]
  },
  {
   "cell_type": "code",
   "execution_count": 15,
   "metadata": {
    "collapsed": false
   },
   "outputs": [
    {
     "name": "stdout",
     "output_type": "stream",
     "text": [
      "[master 60346fe] Added more meaningful lines\n",
      " 1 file changed, 2 insertions(+)\n"
     ]
    }
   ],
   "source": [
    "%%bash\n",
    "cd ~/Projects/git-test\n",
    "\n",
    "git add --all\n",
    "git commit -m \"Added more meaningful lines\""
   ]
  },
  {
   "cell_type": "markdown",
   "metadata": {},
   "source": [
    "## `git mv` and `git rm`\n",
    "\n",
    "When moving files tracked by Git you should use `git rm` and `git mv` instead of the build in bash command. Git can normally figure out that files have been renamed if you `git add` the renamed file but it often struggles to realise that you have removed a file.   "
   ]
  },
  {
   "cell_type": "code",
   "execution_count": 16,
   "metadata": {
    "collapsed": true
   },
   "outputs": [],
   "source": [
    "%%bash\n",
    "cd ~/Projects/git-test\n",
    "\n",
    "git mv first_file.txt README.md"
   ]
  },
  {
   "cell_type": "markdown",
   "metadata": {},
   "source": [
    "We should now `add` and `commit` this change. "
   ]
  },
  {
   "cell_type": "code",
   "execution_count": 18,
   "metadata": {
    "collapsed": false
   },
   "outputs": [
    {
     "name": "stdout",
     "output_type": "stream",
     "text": [
      "On branch master\n",
      "nothing to commit, working directory clean\n"
     ]
    }
   ],
   "source": [
    "%%bash\n",
    "cd ~/Projects/git-test\n",
    "\n",
    "git add --all\n",
    "git commit -m \"Create a README file\""
   ]
  },
  {
   "cell_type": "markdown",
   "metadata": {},
   "source": [
    "## GitHub\n",
    "\n",
    "While using Git by itself is a great productivity tool in its own right, it only becomes truly great when combined with remote repositories. GitHub is the \"official\" and most popular choice, although there are other options and it's also possible to set up a costum server. Some universities and most large companies use it in that way. \n",
    "\n",
    "GitHub provides you with a backup for your code and code history, easy way to publish it, track progress and a great way of collabatong with others on your projects. In recent years it has been the number one choice for both scientists and opensource developers. \n",
    "\n",
    "Once you register on GitHub and go to your profile you will find an empty list of repositories in the top-right corner. You should create a new repository, give it a name and a brief description and initialise as an empty project for now. GitHub will then give you a very useful reminder of some of the first fuctions you will need to run to sync your local and online repositories. Since we already have a project ready we will use the following. "
   ]
  },
  {
   "cell_type": "code",
   "execution_count": 19,
   "metadata": {
    "collapsed": false
   },
   "outputs": [],
   "source": [
    "%%bash\n",
    "cd ~/Projects/git-test\n",
    "\n",
    "git remote add origin git@github.com:SzymonPrajs/git-test.git"
   ]
  },
  {
   "cell_type": "markdown",
   "metadata": {},
   "source": [
    "I have an SSH key set up for my GitHub account hence I don't need to use my log in credentials but if this is the forst time you are using GitHub you should use the HTTPS upload option for this example. I would strongly suggest that you use the SSH approach too as it makes your like a lot easier in the long run!\n",
    "\n",
    "When using HTTPS you need to change the address of your repository slightly to\n",
    "```bash\n",
    "git remote add origin https://github.com/SzymonPrajs/git-test.git\n",
    "```\n",
    "\n",
    "This tells Git that there is an remote repository which will be refered to as `origin` at the address `bla`. You can add several repositories for the same project. For example you could have a remote to someone else's version of the code allowing you to sync the projects between you and your collaborators. "
   ]
  },
  {
   "cell_type": "markdown",
   "metadata": {},
   "source": [
    "## `git push`\n",
    "\n",
    "Finally we can now `push` our project to the remote."
   ]
  },
  {
   "cell_type": "code",
   "execution_count": 20,
   "metadata": {
    "collapsed": false
   },
   "outputs": [
    {
     "name": "stderr",
     "output_type": "stream",
     "text": [
      "To git@github.com:SzymonPrajs/git-test.git\n",
      " * [new branch]      master -> master\n"
     ]
    }
   ],
   "source": [
    "%%bash\n",
    "cd ~/Projects/git-test\n",
    "\n",
    "git push origin master"
   ]
  },
  {
   "cell_type": "markdown",
   "metadata": {},
   "source": [
    "## `git pull`\n",
    "\n",
    "If you're syncing your code between multiple computers or working in a collaboration you will probably want to be able to update the code from GitHub to your machine too. For this you can use the `pull` command. Technically underneath there are two command that get executed, first `fetch` which download the latest code and then `merge` which joins it into your project. If there are no conflicts in the project `pull` will work just fine and is all you need to do but later on we will discuss cases where you might need to do a bit more work when using `pull`.\n",
    "\n",
    "Let's make some changes into the repository on the GitHub page and pull them back to our computers."
   ]
  },
  {
   "cell_type": "code",
   "execution_count": 21,
   "metadata": {
    "collapsed": false
   },
   "outputs": [
    {
     "name": "stdout",
     "output_type": "stream",
     "text": [
      "Updating 99462ac..25a2047\n",
      "Fast-forward\n",
      " README.md | 2 ++\n",
      " 1 file changed, 2 insertions(+)\n"
     ]
    },
    {
     "name": "stderr",
     "output_type": "stream",
     "text": [
      "From github.com:SzymonPrajs/git-test\n",
      " * branch            master     -> FETCH_HEAD\n",
      "   99462ac..25a2047  master     -> origin/master\n"
     ]
    }
   ],
   "source": [
    "%%bash\n",
    "cd ~/Projects/git-test\n",
    "\n",
    "git pull origin master"
   ]
  },
  {
   "cell_type": "markdown",
   "metadata": {},
   "source": [
    "## Branching in Git\n",
    "\n",
    "So far we covered the basics of Git, now we can move on to what truly makes Git worth your time: branching. Let's add another file into the project first.\n",
    "\n",
    "Regradless of the amount of coding you do day-to-day, you almost certainly came across a situation when you needed to write something that you are not sure if it will work straight away but know that at any point you might get an email from your supervisor/collaborator asking for *that* exact plot that you can't make right now because your code is broken into bits and nothing is compiling. The usual solution for this might be having code backups, so you end up in the situation where your folders look something like this:\n",
    "\n",
    "```bash\n",
    "code\n",
    "code_old\n",
    "code_for_mark\n",
    "code_backup\n",
    "code_what_even_is_this\n",
    "```\n",
    "\n",
    "Branches remove this problem in a very neat solution. Let's first check what out default branch is."
   ]
  },
  {
   "cell_type": "code",
   "execution_count": 22,
   "metadata": {
    "collapsed": false
   },
   "outputs": [
    {
     "name": "stdout",
     "output_type": "stream",
     "text": [
      "* master\n"
     ]
    }
   ],
   "source": [
    "%%bash\n",
    "cd ~/Projects/git-test\n",
    "\n",
    "git branch"
   ]
  },
  {
   "cell_type": "markdown",
   "metadata": {},
   "source": [
    "Let's add a new branch and call it `experiment`"
   ]
  },
  {
   "cell_type": "code",
   "execution_count": 23,
   "metadata": {
    "collapsed": false
   },
   "outputs": [],
   "source": [
    "%%bash\n",
    "cd ~/Projects/git-test\n",
    "\n",
    "git branch experiment"
   ]
  },
  {
   "cell_type": "markdown",
   "metadata": {},
   "source": [
    "Running `branch` again we now have a new workspace"
   ]
  },
  {
   "cell_type": "code",
   "execution_count": 24,
   "metadata": {
    "collapsed": false
   },
   "outputs": [
    {
     "name": "stdout",
     "output_type": "stream",
     "text": [
      "  experiment\n",
      "* master\n"
     ]
    }
   ],
   "source": [
    "%%bash\n",
    "cd ~/Projects/git-test\n",
    "\n",
    "git branch"
   ]
  },
  {
   "cell_type": "markdown",
   "metadata": {},
   "source": [
    "We can switch to any branch using the `checkout` command"
   ]
  },
  {
   "cell_type": "code",
   "execution_count": 25,
   "metadata": {
    "collapsed": false
   },
   "outputs": [
    {
     "name": "stdout",
     "output_type": "stream",
     "text": [
      "* experiment\n",
      "  master\n"
     ]
    },
    {
     "name": "stderr",
     "output_type": "stream",
     "text": [
      "Switched to branch 'experiment'\n"
     ]
    }
   ],
   "source": [
    "%%bash\n",
    "cd ~/Projects/git-test\n",
    "\n",
    "git checkout experiment\n",
    "git branch"
   ]
  },
  {
   "cell_type": "markdown",
   "metadata": {},
   "source": [
    "Again, we can mess around with the project a bit, add a few more lines to the code. We can now add the changes to the new branch without affecting the our previous work.  "
   ]
  },
  {
   "cell_type": "code",
   "execution_count": 26,
   "metadata": {
    "collapsed": false
   },
   "outputs": [
    {
     "name": "stdout",
     "output_type": "stream",
     "text": [
      "[experiment 372e0e4] Add some experimental changes\n",
      " 1 file changed, 1 insertion(+), 1 deletion(-)\n"
     ]
    }
   ],
   "source": [
    "%%bash\n",
    "cd ~/Projects/git-test\n",
    "\n",
    "git add README.md\n",
    "git commit -m \"Add some experimental changes\""
   ]
  },
  {
   "cell_type": "markdown",
   "metadata": {},
   "source": [
    "Going back to the master branch we will find that there out last commit made no affect on it."
   ]
  },
  {
   "cell_type": "code",
   "execution_count": 27,
   "metadata": {
    "collapsed": false
   },
   "outputs": [
    {
     "name": "stderr",
     "output_type": "stream",
     "text": [
      "Switched to branch 'master'\n"
     ]
    }
   ],
   "source": [
    "%%bash\n",
    "cd ~/Projects/git-test\n",
    "\n",
    "git checkout master"
   ]
  },
  {
   "cell_type": "markdown",
   "metadata": {},
   "source": [
    "To check the differences between our branches we can run the `diff` command. The branches here are separated by two dots."
   ]
  },
  {
   "cell_type": "code",
   "execution_count": 28,
   "metadata": {
    "collapsed": false
   },
   "outputs": [
    {
     "name": "stdout",
     "output_type": "stream",
     "text": [
      "diff --git a/README.md b/README.md\n",
      "index cbe13e0..adb369a 100644\n",
      "--- a/README.md\n",
      "+++ b/README.md\n",
      "@@ -1,4 +1,4 @@\n",
      "-Hello World\n",
      "+Hello UK\n",
      " \n",
      " STUPID line here\n",
      " \n"
     ]
    }
   ],
   "source": [
    "%%bash\n",
    "cd ~/Projects/git-test\n",
    "\n",
    "git diff master..experiment"
   ]
  },
  {
   "cell_type": "markdown",
   "metadata": {},
   "source": [
    "## `git merge`\n",
    "\n",
    "Once your code is ready you may want to push it into the master branch. In most cases this is pretty straight forward. You have to switch to the branch you want to end up with. In our case `master` and the do the following"
   ]
  },
  {
   "cell_type": "code",
   "execution_count": 29,
   "metadata": {
    "collapsed": false
   },
   "outputs": [
    {
     "name": "stdout",
     "output_type": "stream",
     "text": [
      "Updating 25a2047..372e0e4\n",
      "Fast-forward\n",
      " README.md | 2 +-\n",
      " 1 file changed, 1 insertion(+), 1 deletion(-)\n"
     ]
    }
   ],
   "source": [
    "%%bash\n",
    "cd ~/Projects/git-test\n",
    "\n",
    "git merge experiment"
   ]
  },
  {
   "cell_type": "markdown",
   "metadata": {},
   "source": [
    "Both of our branches still exist and are now synced with each other. We can now push the master branch to GitHub and make the latest version of the code live"
   ]
  },
  {
   "cell_type": "code",
   "execution_count": 30,
   "metadata": {
    "collapsed": false
   },
   "outputs": [
    {
     "name": "stderr",
     "output_type": "stream",
     "text": [
      "To git@github.com:SzymonPrajs/git-test.git\n",
      "   25a2047..372e0e4  master -> master\n"
     ]
    }
   ],
   "source": [
    "%%bash\n",
    "cd ~/Projects/git-test\n",
    "\n",
    "git push origin master"
   ]
  },
  {
   "cell_type": "markdown",
   "metadata": {},
   "source": [
    "## Solving conflicts\n",
    "\n",
    "Probably the most common issue people encounter with git is merging branches that are out of sync with each other and all the mayhem that follows that. Let's try an to make a mess of our code. First make some changes on the master branch"
   ]
  },
  {
   "cell_type": "code",
   "execution_count": 31,
   "metadata": {
    "collapsed": false
   },
   "outputs": [
    {
     "name": "stdout",
     "output_type": "stream",
     "text": [
      "[master b97b3e8] Git is not going to like this\n",
      " 1 file changed, 1 insertion(+), 1 deletion(-)\n"
     ]
    }
   ],
   "source": [
    "%%bash\n",
    "cd ~/Projects/git-test\n",
    "\n",
    "git add README.md\n",
    "git commit -m \"Git is not going to like this\""
   ]
  },
  {
   "cell_type": "markdown",
   "metadata": {},
   "source": [
    "And then switch to the experiment branch and make some changes there too."
   ]
  },
  {
   "cell_type": "code",
   "execution_count": 32,
   "metadata": {
    "collapsed": false
   },
   "outputs": [
    {
     "name": "stderr",
     "output_type": "stream",
     "text": [
      "Switched to branch 'experiment'\n"
     ]
    }
   ],
   "source": [
    "%%bash\n",
    "cd ~/Projects/git-test\n",
    "\n",
    "git checkout experiment"
   ]
  },
  {
   "cell_type": "code",
   "execution_count": 33,
   "metadata": {
    "collapsed": false
   },
   "outputs": [
    {
     "name": "stdout",
     "output_type": "stream",
     "text": [
      "[experiment ae97ae3] What will happen\n",
      " 1 file changed, 1 insertion(+), 1 deletion(-)\n"
     ]
    }
   ],
   "source": [
    "%%bash\n",
    "cd ~/Projects/git-test\n",
    "\n",
    "git add README.md\n",
    "git commit -m \"What will happen\""
   ]
  },
  {
   "cell_type": "code",
   "execution_count": 34,
   "metadata": {
    "collapsed": false
   },
   "outputs": [
    {
     "name": "stdout",
     "output_type": "stream",
     "text": [
      "diff --git a/README.md b/README.md\n",
      "index 8166735..f14a2bc 100644\n",
      "--- a/README.md\n",
      "+++ b/README.md\n",
      "@@ -1,5 +1,5 @@\n",
      " Hello UK\n",
      " \n",
      "-VERY STUPID line here\n",
      "+CRAZY line here\n",
      " \n",
      " Line added from the web\n"
     ]
    }
   ],
   "source": [
    "%%bash\n",
    "cd ~/Projects/git-test\n",
    "\n",
    "git diff master..experiment"
   ]
  },
  {
   "cell_type": "markdown",
   "metadata": {},
   "source": [
    "And now we can try to merge the code"
   ]
  },
  {
   "cell_type": "code",
   "execution_count": 35,
   "metadata": {
    "collapsed": false
   },
   "outputs": [
    {
     "name": "stdout",
     "output_type": "stream",
     "text": [
      "Auto-merging README.md\n",
      "CONFLICT (content): Merge conflict in README.md\n",
      "Automatic merge failed; fix conflicts and then commit the result.\n"
     ]
    },
    {
     "name": "stderr",
     "output_type": "stream",
     "text": [
      "Switched to branch 'master'\n"
     ]
    }
   ],
   "source": [
    "%%bash\n",
    "cd ~/Projects/git-test\n",
    "\n",
    "git checkout master\n",
    "\n",
    "git merge experiment"
   ]
  },
  {
   "cell_type": "code",
   "execution_count": 36,
   "metadata": {
    "collapsed": false
   },
   "outputs": [
    {
     "name": "stdout",
     "output_type": "stream",
     "text": [
      "Hello UK\n",
      "\n",
      "<<<<<<< HEAD\n",
      "VERY STUPID line here\n",
      "=======\n",
      "CRAZY line here\n",
      ">>>>>>> experiment\n",
      "\n",
      "Line added from the web\n"
     ]
    }
   ],
   "source": [
    "%%bash\n",
    "cd ~/Projects/git-test\n",
    "\n",
    "cat README.md"
   ]
  },
  {
   "cell_type": "code",
   "execution_count": 37,
   "metadata": {
    "collapsed": false
   },
   "outputs": [
    {
     "name": "stdout",
     "output_type": "stream",
     "text": [
      "[master 9524f47] Fixed conflicts\n"
     ]
    }
   ],
   "source": [
    "%%bash\n",
    "cd ~/Projects/git-test\n",
    "\n",
    "git add README.md\n",
    "git commit -m \"Fixed conflicts\""
   ]
  },
  {
   "cell_type": "markdown",
   "metadata": {},
   "source": [
    "## `git log`\n",
    "\n",
    "Git logs are very useful and by default give us a lot of information."
   ]
  },
  {
   "cell_type": "code",
   "execution_count": 38,
   "metadata": {
    "collapsed": false
   },
   "outputs": [
    {
     "name": "stdout",
     "output_type": "stream",
     "text": [
      "commit 9524f473e154fc5d94cff6e0aba7f42c9ac78ce7\n",
      "Merge: b97b3e8 ae97ae3\n",
      "Author: Szymon Prajs <S.Prajs@soton.ac.uk>\n",
      "Date:   Tue Nov 22 02:33:49 2016 +0000\n",
      "\n",
      "    Fixed conflicts\n",
      "\n",
      "commit ae97ae34449d7d9607c40948ac3adecc770f3dd1\n",
      "Author: Szymon Prajs <S.Prajs@soton.ac.uk>\n",
      "Date:   Tue Nov 22 02:32:51 2016 +0000\n",
      "\n",
      "    What will happen\n",
      "\n",
      "commit b97b3e830614d26a719e9d1fdb33ba2fa1e12421\n",
      "Author: Szymon Prajs <S.Prajs@soton.ac.uk>\n",
      "Date:   Tue Nov 22 02:32:41 2016 +0000\n",
      "\n",
      "    Git is not going to like this\n",
      "\n",
      "commit 372e0e46ad680a0dd79fa33cad4e19efd5bd8268\n",
      "Author: Szymon Prajs <S.Prajs@soton.ac.uk>\n",
      "Date:   Tue Nov 22 02:30:44 2016 +0000\n",
      "\n",
      "    Add some experimental changes\n",
      "\n",
      "commit 25a2047e4f2564113fd98ef00df147985102a151\n",
      "Author: Szymon Prajs <S.Prajs@soton.ac.uk>\n",
      "Date:   Tue Nov 22 02:26:43 2016 +0000\n",
      "\n",
      "    Update README.md\n",
      "\n",
      "commit 99462aca69b8a9b69551f2c8bbfa0ded01dadee3\n",
      "Author: Szymon Prajs <S.Prajs@soton.ac.uk>\n",
      "Date:   Tue Nov 22 02:24:31 2016 +0000\n",
      "\n",
      "    Create a README file\n",
      "\n",
      "commit 60346fe88fe1481379a83c982d79351e9bee9a35\n",
      "Author: Szymon Prajs <S.Prajs@soton.ac.uk>\n",
      "Date:   Tue Nov 22 02:24:10 2016 +0000\n",
      "\n",
      "    Added more meaningful lines\n",
      "\n",
      "commit 95587d1a2870ea1e6deffba1ace7d90a521deb75\n",
      "Author: Szymon Prajs <S.Prajs@soton.ac.uk>\n",
      "Date:   Tue Nov 22 02:22:20 2016 +0000\n",
      "\n",
      "    My first commit\n"
     ]
    }
   ],
   "source": [
    "%%bash\n",
    "cd ~/Projects/git-test\n",
    "\n",
    "git log"
   ]
  },
  {
   "cell_type": "markdown",
   "metadata": {},
   "source": [
    "This can be very useful but it is pretty difficult to read and does not tell us anything about the branching in our project. This is where the `--oneline --topo-order --graph` flags come in very handy."
   ]
  },
  {
   "cell_type": "code",
   "execution_count": 39,
   "metadata": {
    "collapsed": false
   },
   "outputs": [
    {
     "name": "stdout",
     "output_type": "stream",
     "text": [
      "*   9524f47 Fixed conflicts\n",
      "|\\  \n",
      "| * ae97ae3 What will happen\n",
      "* | b97b3e8 Git is not going to like this\n",
      "|/  \n",
      "* 372e0e4 Add some experimental changes\n",
      "* 25a2047 Update README.md\n",
      "* 99462ac Create a README file\n",
      "* 60346fe Added more meaningful lines\n",
      "* 95587d1 My first commit\n"
     ]
    }
   ],
   "source": [
    "%%bash\n",
    "cd ~/Projects/git-test\n",
    "\n",
    "git log --oneline --topo-order --graph"
   ]
  },
  {
   "cell_type": "markdown",
   "metadata": {},
   "source": [
    "We can make an allias to this setup using the following"
   ]
  },
  {
   "cell_type": "code",
   "execution_count": 40,
   "metadata": {
    "collapsed": false
   },
   "outputs": [
    {
     "name": "stdout",
     "output_type": "stream",
     "text": [
      "*   9524f47 Fixed conflicts\n",
      "|\\  \n",
      "| * ae97ae3 What will happen\n",
      "* | b97b3e8 Git is not going to like this\n",
      "|/  \n",
      "* 372e0e4 Add some experimental changes\n",
      "* 25a2047 Update README.md\n",
      "* 99462ac Create a README file\n",
      "* 60346fe Added more meaningful lines\n",
      "* 95587d1 My first commit\n"
     ]
    }
   ],
   "source": [
    "%%bash\n",
    "cd ~/Projects/git-test\n",
    "\n",
    "git config --global alias.slog \"log --oneline --topo-order --graph\"\n",
    "\n",
    "git slog"
   ]
  },
  {
   "cell_type": "markdown",
   "metadata": {
    "collapsed": true
   },
   "source": [
    "## .gitignore"
   ]
  },
  {
   "cell_type": "markdown",
   "metadata": {},
   "source": [
    "The last thing which I believe is essential for anyone using Git is `.gitignore`, essentially a file that tells git which files it should not be traching and suggesting for `git add` allowing you to use `git add --all` without adding unwanted files such as data data, outputs etc."
   ]
  },
  {
   "cell_type": "code",
   "execution_count": 41,
   "metadata": {
    "collapsed": false
   },
   "outputs": [
    {
     "name": "stdout",
     "output_type": "stream",
     "text": [
      "README.md\n",
      "test.dat\n",
      "test.out\n"
     ]
    }
   ],
   "source": [
    "%%bash\n",
    "cd ~/Projects/git-test\n",
    "\n",
    "touch test.dat test.out\n",
    "ls"
   ]
  },
  {
   "cell_type": "code",
   "execution_count": 42,
   "metadata": {
    "collapsed": false
   },
   "outputs": [
    {
     "name": "stdout",
     "output_type": "stream",
     "text": [
      "On branch master\n",
      "Untracked files:\n",
      "  (use \"git add <file>...\" to include in what will be committed)\n",
      "\n",
      "\ttest.dat\n",
      "\ttest.out\n",
      "\n",
      "nothing added to commit but untracked files present (use \"git add\" to track)\n"
     ]
    }
   ],
   "source": [
    "%%bash\n",
    "cd ~/Projects/git-test\n",
    "\n",
    "git status"
   ]
  },
  {
   "cell_type": "code",
   "execution_count": 44,
   "metadata": {
    "collapsed": false
   },
   "outputs": [
    {
     "name": "stdout",
     "output_type": "stream",
     "text": [
      "[master 7f8121c] Added .gitignore\n",
      " 1 file changed, 2 insertions(+)\n",
      " create mode 100644 .gitignore\n"
     ]
    }
   ],
   "source": [
    "%%bash\n",
    "cd ~/Projects/git-test\n",
    "\n",
    "git add .gitignore\n",
    "git commit -m \"Added .gitignore\""
   ]
  },
  {
   "cell_type": "code",
   "execution_count": 45,
   "metadata": {
    "collapsed": false
   },
   "outputs": [
    {
     "name": "stdout",
     "output_type": "stream",
     "text": [
      "On branch master\n",
      "nothing to commit, working directory clean\n"
     ]
    }
   ],
   "source": [
    "%%bash\n",
    "cd ~/Projects/git-test\n",
    "\n",
    "git status"
   ]
  }
 ],
 "metadata": {
  "anaconda-cloud": {},
  "kernelspec": {
   "display_name": "Python [Root]",
   "language": "python",
   "name": "Python [Root]"
  },
  "language_info": {
   "codemirror_mode": {
    "name": "ipython",
    "version": 2
   },
   "file_extension": ".py",
   "mimetype": "text/x-python",
   "name": "python",
   "nbconvert_exporter": "python",
   "pygments_lexer": "ipython2",
   "version": "2.7.12"
  },
  "nbpresent": {
   "slides": {},
   "themes": {}
  }
 },
 "nbformat": 4,
 "nbformat_minor": 0
}

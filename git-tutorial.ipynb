{
 "cells": [
  {
   "cell_type": "markdown",
   "metadata": {
    "nbpresent": {
     "id": "1f1df6c7-7448-4b32-a1c3-023ffaa1eb5a"
    }
   },
   "source": [
    "# Git: Make version control great again!  "
   ]
  },
  {
   "cell_type": "markdown",
   "metadata": {},
   "source": [
    "## Sources for this tutorial\n",
    "This tutorial is adapted from the [Version control for fun and profit](https://github.com/jakevdp/git-intro/blob/master/git-intro.ipynb) by Jake Vanderplas. \n",
    "\n",
    "Some of the images used below are copied from [A successful Git branching model](http://nvie.com/posts/a-successful-git-branching-model/) by Vincent Driessen."
   ]
  },
  {
   "cell_type": "markdown",
   "metadata": {},
   "source": [
    "## Git vs GitHub\n",
    "Before going into how Git and GitHub work we should first make a distinction between them:\n",
    "\n",
    "**Git** - Version control softwate that tracks and maganges changes in source code and other text based files.\n",
    "\n",
    "**GitHub** - Hosting server for Git repositories, designed to enable collaborations between code developers.\n",
    "\n",
    "For the first part of this tutorial we will focus on Git only before moving our repository to GitHub and exploring the edvantages this gives us."
   ]
  },
  {
   "cell_type": "markdown",
   "metadata": {},
   "source": [
    "## Setting up Git\n",
    "Before we start using Git we need to set it up first. The only two options which are required is your name and email address which are used to identify your commits locally. These should be the same as your GitHub credentials if you intend to use it later. "
   ]
  },
  {
   "cell_type": "code",
   "execution_count": 4,
   "metadata": {
    "collapsed": true
   },
   "outputs": [],
   "source": [
    "%%bash\n",
    "git config --global user.name \"Szymon Prajs\"\n",
    "git config --global user.email \"S.Prajs@soton.ac.uk\""
   ]
  },
  {
   "cell_type": "markdown",
   "metadata": {},
   "source": [
    "Something that isn't necessary but will make your life **a lot** easier is changing your default text editor. Git uses `Vi` as default and unless you were born in the 70s you probably either never heard of it or at least don't know how to close it without killing your terminal window. I use `Atom` which is a fantastic text editor currently taking the world by storm. \n",
    "\n",
    "It is written by the same developers as Git and GitHub and its main advantage is that uses `.git` files as its project managment files, allowing for code autocompletions and much more with absolutely no extra setup. \n",
    "\n",
    "This is again just a single command:"
   ]
  },
  {
   "cell_type": "code",
   "execution_count": 5,
   "metadata": {
    "collapsed": true
   },
   "outputs": [],
   "source": [
    "%%bash\n",
    "git config --global core.editor \"atom --wait\""
   ]
  },
  {
   "cell_type": "markdown",
   "metadata": {},
   "source": [
    "Last, and very optional, setting is to enable Git to colour the output. This is particularly useful for large commits and logs."
   ]
  },
  {
   "cell_type": "code",
   "execution_count": 24,
   "metadata": {
    "collapsed": false
   },
   "outputs": [],
   "source": [
    "%%bash\n",
    "git config --global color.ui \"auto\""
   ]
  },
  {
   "cell_type": "markdown",
   "metadata": {},
   "source": [
    "## Sample project\n",
    "\n",
    "Best news I have for you today is that you can use Git with any existing code and not just new projects. We can start by create a simple file to represent our project. From now on I will do most of the code changes in `Atom` and use this notebook as a terminal when using Git."
   ]
  },
  {
   "cell_type": "code",
   "execution_count": 25,
   "metadata": {
    "collapsed": false
   },
   "outputs": [],
   "source": [
    "%%bash\n",
    "cd ~/Projects\n",
    "rm -r git-test; mkdir git-test; cd git-test\n",
    "\n",
    "echo \"Hello World\" > first_file.txt"
   ]
  },
  {
   "cell_type": "markdown",
   "metadata": {},
   "source": [
    "## Git init\n",
    "\n",
    "Now that we have an exciting project we can tell Git to start looking after it. It's as easy as:"
   ]
  },
  {
   "cell_type": "code",
   "execution_count": 26,
   "metadata": {
    "collapsed": false
   },
   "outputs": [
    {
     "name": "stdout",
     "output_type": "stream",
     "text": [
      "Initialized empty Git repository in /Users/szymon/Projects/git-test/.git/\n"
     ]
    }
   ],
   "source": [
    "%%bash\n",
    "cd ~/Projects/git-test\n",
    "\n",
    "git init"
   ]
  },
  {
   "cell_type": "code",
   "execution_count": 28,
   "metadata": {
    "collapsed": false
   },
   "outputs": [
    {
     "name": "stdout",
     "output_type": "stream",
     "text": [
      "On branch master\n",
      "\n",
      "Initial commit\n",
      "\n",
      "Untracked files:\n",
      "  (use \"git add <file>...\" to include in what will be committed)\n",
      "\n",
      "\tfirst_file.txt\n",
      "\n",
      "nothing added to commit but untracked files present (use \"git add\" to track)\n"
     ]
    }
   ],
   "source": [
    "%%bash\n",
    "cd ~/Projects/git-test\n",
    "\n",
    "git status"
   ]
  },
  {
   "cell_type": "code",
   "execution_count": 30,
   "metadata": {
    "collapsed": false
   },
   "outputs": [],
   "source": [
    "%%bash\n",
    "cd ~/Projects/git-test\n",
    "\n",
    "git add first_file.txt"
   ]
  },
  {
   "cell_type": "code",
   "execution_count": 31,
   "metadata": {
    "collapsed": false
   },
   "outputs": [
    {
     "name": "stdout",
     "output_type": "stream",
     "text": [
      "On branch master\n",
      "\n",
      "Initial commit\n",
      "\n",
      "Changes to be committed:\n",
      "  (use \"git rm --cached <file>...\" to unstage)\n",
      "\n",
      "\tnew file:   first_file.txt\n",
      "\n"
     ]
    }
   ],
   "source": [
    "%%bash\n",
    "cd ~/Projects/git-test\n",
    "\n",
    "git status"
   ]
  },
  {
   "cell_type": "code",
   "execution_count": 32,
   "metadata": {
    "collapsed": false
   },
   "outputs": [
    {
     "name": "stdout",
     "output_type": "stream",
     "text": [
      "[master (root-commit) 9809ebf] My first commit\n",
      " 1 file changed, 1 insertion(+)\n",
      " create mode 100644 first_file.txt\n"
     ]
    }
   ],
   "source": [
    "%%bash\n",
    "cd ~/Projects/git-test\n",
    "\n",
    "git commit -m \"My first commit\""
   ]
  },
  {
   "cell_type": "code",
   "execution_count": 33,
   "metadata": {
    "collapsed": false
   },
   "outputs": [
    {
     "name": "stdout",
     "output_type": "stream",
     "text": [
      "commit 9809ebf0369c3977eb83b6f24982ada5ab8d7d37\n",
      "Author: Szymon Prajs <S.Prajs@soton.ac.uk>\n",
      "Date:   Wed Nov 16 20:26:16 2016 +0000\n",
      "\n",
      "    My first commit\n"
     ]
    }
   ],
   "source": [
    "%%bash\n",
    "cd ~/Projects/git-test\n",
    "\n",
    "git log"
   ]
  },
  {
   "cell_type": "code",
   "execution_count": null,
   "metadata": {
    "collapsed": true
   },
   "outputs": [],
   "source": []
  }
 ],
 "metadata": {
  "kernelspec": {
   "display_name": "Python [Root]",
   "language": "python",
   "name": "Python [Root]"
  },
  "language_info": {
   "codemirror_mode": {
    "name": "ipython",
    "version": 3
   },
   "file_extension": ".py",
   "mimetype": "text/x-python",
   "name": "python",
   "nbconvert_exporter": "python",
   "pygments_lexer": "ipython3",
   "version": "3.5.2"
  },
  "nbpresent": {
   "slides": {},
   "themes": {}
  }
 },
 "nbformat": 4,
 "nbformat_minor": 0
}

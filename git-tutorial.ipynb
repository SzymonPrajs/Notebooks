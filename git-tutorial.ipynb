{
 "cells": [
  {
   "cell_type": "markdown",
   "metadata": {
    "nbpresent": {
     "id": "1f1df6c7-7448-4b32-a1c3-023ffaa1eb5a"
    }
   },
   "source": [
    "# Git: Make version control great again!  "
   ]
  },
  {
   "cell_type": "markdown",
   "metadata": {},
   "source": [
    "## Sources for this tutorial\n",
    "This tutorial is adapted from the [Version control for fun and profit](https://github.com/jakevdp/git-intro/blob/master/git-intro.ipynb) by Jake Vanderplas. \n",
    "\n",
    "Some of the images used below are copied from [A successful Git branching model](http://nvie.com/posts/a-successful-git-branching-model/) by Vincent Driessen."
   ]
  },
  {
   "cell_type": "markdown",
   "metadata": {},
   "source": [
    "## Git vs GitHub\n",
    "Before going into how Git and GitHub work we should first make a distinction between them:\n",
    "\n",
    "**Git** - Version control softwate that tracks and maganges changes in source code and other text based files.\n",
    "\n",
    "**GitHub** - Hosting server for Git repositories, designed to enable collaborations between code developers.\n",
    "\n",
    "For the first part of this tutorial we will focus on Git only before moving our repository to GitHub and exploring the edvantages this gives us."
   ]
  },
  {
   "cell_type": "markdown",
   "metadata": {},
   "source": [
    "## Setting up Git\n",
    "Before we start using Git we need to set it up first. The only two options which are required is your name and email address which are used to identify your commits locally. These should be the same as your GitHub credentials if you intend to use it later. "
   ]
  },
  {
   "cell_type": "code",
   "execution_count": 11,
   "metadata": {
    "collapsed": true
   },
   "outputs": [],
   "source": [
    "%%bash\n",
    "git config --global user.name \"Szymon Prajs\"\n",
    "git config --global user.email \"S.Prajs@soton.ac.uk\""
   ]
  },
  {
   "cell_type": "markdown",
   "metadata": {},
   "source": [
    "Something that isn't necessary but will make your life **a lot** easier is changing your default text editor. Git uses `Vi` as default and unless you were born in the 70s you probably either never heard of it or at least don't know how to close it without killing your terminal window. I use `Atom` which is a fantastic text editor currently taking the world by storm. \n",
    "\n",
    "It is written by the same developers as Git and GitHub and its main advantage is that uses `.git` files as its project managment files, allowing for code autocompletions and much more with absolutely no extra setup. \n",
    "\n",
    "This is again just a single command:"
   ]
  },
  {
   "cell_type": "code",
   "execution_count": 12,
   "metadata": {
    "collapsed": true
   },
   "outputs": [],
   "source": [
    "%%bash\n",
    "git config --global core.editor \"atom --wait\""
   ]
  },
  {
   "cell_type": "markdown",
   "metadata": {},
   "source": [
    "Last, and very optional, setting is to enable Git to colour the output. This is particularly useful for large commits and logs."
   ]
  },
  {
   "cell_type": "code",
   "execution_count": 13,
   "metadata": {
    "collapsed": false
   },
   "outputs": [],
   "source": [
    "%%bash\n",
    "git config --global color.ui \"auto\""
   ]
  },
  {
   "cell_type": "markdown",
   "metadata": {},
   "source": [
    "## Sample project\n",
    "\n",
    "We can start by create a simple file to represent our project. From now on I will do most of the code changes in `Atom` and use this notebook as a terminal when using Git."
   ]
  },
  {
   "cell_type": "code",
   "execution_count": 14,
   "metadata": {
    "collapsed": false
   },
   "outputs": [
    {
     "name": "stdout",
     "output_type": "stream",
     "text": [
      ".\n",
      "..\n",
      "first_file.txt\n"
     ]
    }
   ],
   "source": [
    "%%bash\n",
    "cd ~/Projects\n",
    "rm -r git-test; mkdir git-test; cd git-test\n",
    "\n",
    "echo \"Hello World\" > first_file.txt\n",
    "ls -a"
   ]
  },
  {
   "cell_type": "markdown",
   "metadata": {},
   "source": [
    "## `git init`\n",
    "\n",
    "Now that we have an exciting project we can tell Git to start looking after it. It's as easy as:"
   ]
  },
  {
   "cell_type": "code",
   "execution_count": 15,
   "metadata": {
    "collapsed": false
   },
   "outputs": [
    {
     "name": "stdout",
     "output_type": "stream",
     "text": [
      "Initialized empty Git repository in /Users/szymon/Projects/git-test/.git/\n"
     ]
    }
   ],
   "source": [
    "%%bash\n",
    "cd ~/Projects/git-test\n",
    "\n",
    "git init"
   ]
  },
  {
   "cell_type": "markdown",
   "metadata": {},
   "source": [
    "Looking at the project directory you can see that a new folder has been added. It is **crucial** that you never delete this folder or you will loose all your version control history. Deleting it doesn't delete any of your code but if you do not use GitHub you loose all your previous code versions and all but your currect branch."
   ]
  },
  {
   "cell_type": "code",
   "execution_count": 17,
   "metadata": {
    "collapsed": false
   },
   "outputs": [
    {
     "name": "stdout",
     "output_type": "stream",
     "text": [
      ".\n",
      "..\n",
      ".git\n",
      "first_file.txt\n"
     ]
    }
   ],
   "source": [
    "%%bash\n",
    "cd ~/Projects/git-test\n",
    "\n",
    "ls -a"
   ]
  },
  {
   "cell_type": "markdown",
   "metadata": {},
   "source": [
    "We can now check what git sees in our project folder"
   ]
  },
  {
   "cell_type": "code",
   "execution_count": 19,
   "metadata": {
    "collapsed": false
   },
   "outputs": [
    {
     "name": "stdout",
     "output_type": "stream",
     "text": [
      "On branch master\n",
      "\n",
      "Initial commit\n",
      "\n",
      "Untracked files:\n",
      "  (use \"git add <file>...\" to include in what will be committed)\n",
      "\n",
      "\tfirst_file.txt\n",
      "\n",
      "nothing added to commit but untracked files present (use \"git add\" to track)\n"
     ]
    }
   ],
   "source": [
    "%%bash\n",
    "cd ~/Projects/git-test\n",
    " \n",
    "git status"
   ]
  },
  {
   "cell_type": "markdown",
   "metadata": {},
   "source": [
    "## `git add`\n",
    "\n",
    "Git does not track any files in your project folder automatically. You have to specify which files you want it to follow. When possible it is always a good idea to add the files individually to avoid addinging any temporary files by accident. "
   ]
  },
  {
   "cell_type": "code",
   "execution_count": 20,
   "metadata": {
    "collapsed": false
   },
   "outputs": [],
   "source": [
    "%%bash\n",
    "cd ~/Projects/git-test\n",
    "\n",
    "git add first_file.txt"
   ]
  },
  {
   "cell_type": "markdown",
   "metadata": {},
   "source": [
    "However, you can force Git to add follow all files in your directory using the `--all` flag"
   ]
  },
  {
   "cell_type": "code",
   "execution_count": 22,
   "metadata": {
    "collapsed": true
   },
   "outputs": [],
   "source": [
    "%%bash\n",
    "cd ~/Projects/git-test\n",
    "\n",
    "git add --all"
   ]
  },
  {
   "cell_type": "markdown",
   "metadata": {},
   "source": [
    "Now if we check the `status` of our repository again we see that it looks different. "
   ]
  },
  {
   "cell_type": "code",
   "execution_count": 23,
   "metadata": {
    "collapsed": false
   },
   "outputs": [
    {
     "name": "stdout",
     "output_type": "stream",
     "text": [
      "On branch master\n",
      "\n",
      "Initial commit\n",
      "\n",
      "Changes to be committed:\n",
      "  (use \"git rm --cached <file>...\" to unstage)\n",
      "\n",
      "\tnew file:   first_file.txt\n",
      "\n"
     ]
    }
   ],
   "source": [
    "%%bash\n",
    "cd ~/Projects/git-test\n",
    "\n",
    "git status"
   ]
  },
  {
   "cell_type": "markdown",
   "metadata": {},
   "source": [
    "## `git commit`\n",
    "\n",
    "Once you have added all the code you can make a permanant record of your changes by running the `commit` command. Each commit is tagged with an internal key and a comment that is set by the user. Once you commit code you will be prompted to describe the changes. A very useful shortcut is to use the `-m` flag to record the commit with a message.  "
   ]
  },
  {
   "cell_type": "code",
   "execution_count": 25,
   "metadata": {
    "collapsed": false
   },
   "outputs": [
    {
     "name": "stdout",
     "output_type": "stream",
     "text": [
      "On branch master\n",
      "nothing to commit, working directory clean\n"
     ]
    }
   ],
   "source": [
    "%%bash\n",
    "cd ~/Projects/git-test\n",
    "\n",
    "git commit -m \"My first commit\""
   ]
  },
  {
   "cell_type": "markdown",
   "metadata": {},
   "source": [
    "You can check your commit history using the `log` command."
   ]
  },
  {
   "cell_type": "code",
   "execution_count": 33,
   "metadata": {
    "collapsed": false
   },
   "outputs": [
    {
     "name": "stdout",
     "output_type": "stream",
     "text": [
      "commit 9809ebf0369c3977eb83b6f24982ada5ab8d7d37\n",
      "Author: Szymon Prajs <S.Prajs@soton.ac.uk>\n",
      "Date:   Wed Nov 16 20:26:16 2016 +0000\n",
      "\n",
      "    My first commit\n"
     ]
    }
   ],
   "source": [
    "%%bash\n",
    "cd ~/Projects/git-test\n",
    "\n",
    "git log"
   ]
  },
  {
   "cell_type": "markdown",
   "metadata": {
    "collapsed": true
   },
   "source": [
    "## `git diff`\n",
    "\n",
    "`diff` is a very useful command showing you the lines in which changes have been made since the last commit. Again if you're using `Atom` then your text editor will continuesly show you this by highlighting the edges of changed lines. Let's add a few more things for fun and check what we've done. "
   ]
  },
  {
   "cell_type": "code",
   "execution_count": 31,
   "metadata": {
    "collapsed": false
   },
   "outputs": [
    {
     "name": "stdout",
     "output_type": "stream",
     "text": [
      "diff --git a/first_file.txt b/first_file.txt\n",
      "index 7e9968e..1087f7f 100644\n",
      "--- a/first_file.txt\n",
      "+++ b/first_file.txt\n",
      "@@ -1,4 +1,4 @@\n",
      "-Hello World\n",
      "+Hello UK!\n",
      " \n",
      " More lines!\n",
      " I will add two, why not.\n"
     ]
    }
   ],
   "source": [
    "%%bash\n",
    "cd ~/Projects/git-test\n",
    "\n",
    "git diff"
   ]
  },
  {
   "cell_type": "markdown",
   "metadata": {},
   "source": [
    "Now just add and commit the changes"
   ]
  },
  {
   "cell_type": "code",
   "execution_count": 35,
   "metadata": {
    "collapsed": false
   },
   "outputs": [
    {
     "name": "stdout",
     "output_type": "stream",
     "text": [
      "On branch master\n",
      "nothing to commit, working directory clean\n"
     ]
    }
   ],
   "source": [
    "%%bash\n",
    "cd ~/Projects/git-test\n",
    "\n",
    "git add --all\n",
    "git commit -m \"Added more meaningful lines\""
   ]
  },
  {
   "cell_type": "markdown",
   "metadata": {},
   "source": [
    "## `git mv` and `git rm`\n",
    "\n",
    "When moving files tracked by Git you should use `git rm` and `git mv` instead of the build in bash command. Git can normally figure out that files have been renamed if you `git add` the renamed file but it often struggles to realise that you have removed a file.   "
   ]
  },
  {
   "cell_type": "code",
   "execution_count": 36,
   "metadata": {
    "collapsed": true
   },
   "outputs": [],
   "source": [
    "%%bash\n",
    "cd ~/Projects/git-test\n",
    "\n",
    "git mv first_file.txt README.md"
   ]
  },
  {
   "cell_type": "markdown",
   "metadata": {},
   "source": [
    "We should now `add` and `commit` this change. "
   ]
  },
  {
   "cell_type": "code",
   "execution_count": 37,
   "metadata": {
    "collapsed": false
   },
   "outputs": [
    {
     "name": "stdout",
     "output_type": "stream",
     "text": [
      "[master 6c25f0c] Create a README file\n",
      " 1 file changed, 0 insertions(+), 0 deletions(-)\n",
      " rename first_file.txt => README.md (100%)\n"
     ]
    }
   ],
   "source": [
    "%%bash\n",
    "cd ~/Projects/git-test\n",
    "\n",
    "git add --all\n",
    "git commit -m \"Create a README file\""
   ]
  },
  {
   "cell_type": "markdown",
   "metadata": {},
   "source": [
    "## `git log`\n",
    "\n",
    "Git logs are very useful and by default give us a lot of information but does not tell us anything about the branching in our project. This is where the `--oneline --topo-order --graph` flags come in very handy."
   ]
  },
  {
   "cell_type": "code",
   "execution_count": 33,
   "metadata": {
    "collapsed": false
   },
   "outputs": [
    {
     "name": "stdout",
     "output_type": "stream",
     "text": [
      "* 13ad148 Added more meaningful lines\n",
      "* ea3cd08 Added very meaningful lines\n",
      "* 9018b72 My first commit\n"
     ]
    }
   ],
   "source": [
    "%%bash\n",
    "cd ~/Projects/git-test\n",
    "\n",
    "git log --oneline --topo-order --graph"
   ]
  },
  {
   "cell_type": "markdown",
   "metadata": {},
   "source": [
    "We can make an allias to this setup using the following"
   ]
  },
  {
   "cell_type": "code",
   "execution_count": 34,
   "metadata": {
    "collapsed": false
   },
   "outputs": [
    {
     "name": "stdout",
     "output_type": "stream",
     "text": [
      "* 13ad148 Added more meaningful lines\n",
      "* ea3cd08 Added very meaningful lines\n",
      "* 9018b72 My first commit\n"
     ]
    }
   ],
   "source": [
    "%%bash\n",
    "cd ~/Projects/git-test\n",
    "\n",
    "git config --global alias.slog \"log --oneline --topo-order --graph\"\n",
    "\n",
    "git slog"
   ]
  }
 ],
 "metadata": {
  "anaconda-cloud": {},
  "kernelspec": {
   "display_name": "Python [Root]",
   "language": "python",
   "name": "Python [Root]"
  },
  "language_info": {
   "codemirror_mode": {
    "name": "ipython",
    "version": 3
   },
   "file_extension": ".py",
   "mimetype": "text/x-python",
   "name": "python",
   "nbconvert_exporter": "python",
   "pygments_lexer": "ipython3",
   "version": "3.5.2"
  },
  "nbpresent": {
   "slides": {},
   "themes": {}
  }
 },
 "nbformat": 4,
 "nbformat_minor": 0
}

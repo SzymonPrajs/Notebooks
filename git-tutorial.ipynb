{
 "cells": [
  {
   "cell_type": "markdown",
   "metadata": {
    "nbpresent": {
     "id": "1f1df6c7-7448-4b32-a1c3-023ffaa1eb5a"
    }
   },
   "source": [
    "# Git, GitHub & Atom "
   ]
  },
  {
   "cell_type": "markdown",
   "metadata": {},
   "source": [
    "## Sources for this tutorial\n",
    "This tutorial is adapted from the [Version control for fun and profit](https://github.com/jakevdp/git-intro/blob/master/git-intro.ipynb) by Jake Vanderplas. \n",
    "\n",
    "Some of the images used below are copied from [A successful Git branching model](http://nvie.com/posts/a-successful-git-branching-model/) by Vincent Driessen."
   ]
  },
  {
   "cell_type": "markdown",
   "metadata": {},
   "source": [
    "## Git vs GitHub\n",
    "Before getting into how Git and GitHub work we should first make a distinction between them:\n",
    "\n",
    "**Git** - Version control softwate that tracks and maganges changes in source code and other text based files.\n",
    "\n",
    "**GitHub** - Hosting server for Git repositories, designed to enable collaborations between developers.\n",
    "\n",
    "For the first part of this tutorial we will focus on Git only, before pushing our code to GitHub and exploring the advantages this gives us."
   ]
  },
  {
   "cell_type": "markdown",
   "metadata": {},
   "source": [
    "## Setting up Git\n",
    "Before we start using Git we need to first set it up. The only two settings which are required is your name and email address. These are used to identify your commits locally but should be the same as your GitHub credentials if you intend to use it later. "
   ]
  },
  {
   "cell_type": "code",
   "execution_count": 2,
   "metadata": {
    "collapsed": true
   },
   "outputs": [],
   "source": [
    "%%bash\n",
    "git config --global user.name \"Szymon Prajs\"\n",
    "git config --global user.email \"S.Prajs@soton.ac.uk\""
   ]
  },
  {
   "cell_type": "markdown",
   "metadata": {},
   "source": [
    "A setting that is not necessarily required but will make your life **a lot** easier is changing your default text editor. Git uses `Vi` by default so unless you were born in the 70s you probably never heard of it and almost certainly don't know how to use it. A great and modern replacement is `Atom` which is a fantastic text editor that works great with git. It is written by the same developers as Git and GitHub meaning that uses `.git` files as its project managment files, allowing for code autocompletions and much more with absolutely no extra setup. \n",
    "\n",
    "This is again just a single command"
   ]
  },
  {
   "cell_type": "code",
   "execution_count": 3,
   "metadata": {
    "collapsed": true
   },
   "outputs": [],
   "source": [
    "%%bash\n",
    "git config --global core.editor \"atom --wait\""
   ]
  },
  {
   "cell_type": "markdown",
   "metadata": {},
   "source": [
    "Last, and very optional, setting is to enable Git to colour the output. This is particularly useful for large commits and logs."
   ]
  },
  {
   "cell_type": "code",
   "execution_count": 4,
   "metadata": {
    "collapsed": false
   },
   "outputs": [],
   "source": [
    "%%bash\n",
    "git config --global color.ui \"auto\""
   ]
  },
  {
   "cell_type": "markdown",
   "metadata": {},
   "source": [
    "## Sample project\n",
    "\n",
    "We can start by create a simple file to represent our project. From now on I will do most of the code changes in `Atom` and use this notebook as a terminal when using Git but I will mentions what changes I am making if you want to follow this in your own time."
   ]
  },
  {
   "cell_type": "code",
   "execution_count": 5,
   "metadata": {
    "collapsed": false
   },
   "outputs": [
    {
     "name": "stdout",
     "output_type": "stream",
     "text": [
      ".\n",
      "..\n",
      "first_file.txt\n"
     ]
    }
   ],
   "source": [
    "%%bash\n",
    "cd ~/Projects\n",
    "mkdir git-test; cd git-test\n",
    "\n",
    "echo \"Hello World\" > first_file.txt\n",
    "ls -a"
   ]
  },
  {
   "cell_type": "markdown",
   "metadata": {},
   "source": [
    "## `git init`\n",
    "\n",
    "Now that we have an exciting project we can tell Git to start looking after it. This is done with an `init` function"
   ]
  },
  {
   "cell_type": "code",
   "execution_count": 6,
   "metadata": {
    "collapsed": false
   },
   "outputs": [
    {
     "name": "stdout",
     "output_type": "stream",
     "text": [
      "Initialized empty Git repository in /Users/szymon/Projects/git-test/.git/\n"
     ]
    }
   ],
   "source": [
    "%%bash\n",
    "cd ~/Projects/git-test\n",
    "\n",
    "git init"
   ]
  },
  {
   "cell_type": "markdown",
   "metadata": {},
   "source": [
    "Looking at the project directory you can see that a `.git` folder has been added. It is **crucial** that you never delete this folder or you will loose all your version history. Deleting it doesn't delete any of your code but if you do not use GitHub you would loose all your previous code versions and all but your currect branch."
   ]
  },
  {
   "cell_type": "code",
   "execution_count": 7,
   "metadata": {
    "collapsed": false
   },
   "outputs": [
    {
     "name": "stdout",
     "output_type": "stream",
     "text": [
      ".\n",
      "..\n",
      ".git\n",
      "first_file.txt\n"
     ]
    }
   ],
   "source": [
    "%%bash\n",
    "cd ~/Projects/git-test\n",
    "\n",
    "ls -a"
   ]
  },
  {
   "cell_type": "markdown",
   "metadata": {},
   "source": [
    "We can now use the `status` command to check what Git sees in our project folder"
   ]
  },
  {
   "cell_type": "code",
   "execution_count": 8,
   "metadata": {
    "collapsed": false
   },
   "outputs": [
    {
     "name": "stdout",
     "output_type": "stream",
     "text": [
      "On branch master\n",
      "\n",
      "Initial commit\n",
      "\n",
      "Untracked files:\n",
      "  (use \"git add <file>...\" to include in what will be committed)\n",
      "\n",
      "\tfirst_file.txt\n",
      "\n",
      "nothing added to commit but untracked files present (use \"git add\" to track)\n"
     ]
    }
   ],
   "source": [
    "%%bash\n",
    "cd ~/Projects/git-test\n",
    " \n",
    "git status"
   ]
  },
  {
   "cell_type": "markdown",
   "metadata": {},
   "source": [
    "## `git add`\n",
    "\n",
    "Git does not track any files in your project folder automatically. You have to specify which files you want it to follow. When possible it is always a good idea to add the files individually to avoid pushing any temporary files to your repository by accident. "
   ]
  },
  {
   "cell_type": "code",
   "execution_count": 9,
   "metadata": {
    "collapsed": false
   },
   "outputs": [],
   "source": [
    "%%bash\n",
    "cd ~/Projects/git-test\n",
    "\n",
    "git add first_file.txt"
   ]
  },
  {
   "cell_type": "markdown",
   "metadata": {},
   "source": [
    "However, you can force Git to add follow all files in your directory using the `--all` flag. Later on we will discuss a method of telling Git which files to ignore making `git add --all` much more usable. "
   ]
  },
  {
   "cell_type": "code",
   "execution_count": 10,
   "metadata": {
    "collapsed": true
   },
   "outputs": [],
   "source": [
    "%%bash\n",
    "cd ~/Projects/git-test\n",
    "\n",
    "git add --all"
   ]
  },
  {
   "cell_type": "markdown",
   "metadata": {},
   "source": [
    "Now if we check the `status` of our repository again we notice that files are now added and tracked. "
   ]
  },
  {
   "cell_type": "code",
   "execution_count": 11,
   "metadata": {
    "collapsed": false
   },
   "outputs": [
    {
     "name": "stdout",
     "output_type": "stream",
     "text": [
      "On branch master\n",
      "\n",
      "Initial commit\n",
      "\n",
      "Changes to be committed:\n",
      "  (use \"git rm --cached <file>...\" to unstage)\n",
      "\n",
      "\tnew file:   first_file.txt\n",
      "\n"
     ]
    }
   ],
   "source": [
    "%%bash\n",
    "cd ~/Projects/git-test\n",
    "\n",
    "git status"
   ]
  },
  {
   "cell_type": "markdown",
   "metadata": {},
   "source": [
    "## `git commit`\n",
    "\n",
    "Once you have added the code that you would like Git to preserve, you can make a kind of a snapshot of your project at this point using the `commit` command. Each commit is tagged with an internal key and a comment that is set by the user. Once you commit code you will be prompted to describe the changes. A very useful shortcut is to use the `-m` flag to make the commit with a message all in one line with no extra prompts.\n",
    "\n",
    "It is very important for your workflow and core version records that you use meaningful commit messages that will be able to tell you what changes you have made since the previous commit in a few months or years. At the same time the length of the messages is capped at 50 characters so you have to be quite concise. "
   ]
  },
  {
   "cell_type": "code",
   "execution_count": 12,
   "metadata": {
    "collapsed": false
   },
   "outputs": [
    {
     "name": "stdout",
     "output_type": "stream",
     "text": [
      "[master (root-commit) af11ce3] My first commit\n",
      " 1 file changed, 1 insertion(+)\n",
      " create mode 100644 first_file.txt\n"
     ]
    }
   ],
   "source": [
    "%%bash\n",
    "cd ~/Projects/git-test\n",
    "\n",
    "git commit -m \"My first commit\""
   ]
  },
  {
   "cell_type": "markdown",
   "metadata": {},
   "source": [
    "You can check your `commit` history using the `log` command."
   ]
  },
  {
   "cell_type": "code",
   "execution_count": 13,
   "metadata": {
    "collapsed": false
   },
   "outputs": [
    {
     "name": "stdout",
     "output_type": "stream",
     "text": [
      "commit af11ce3b3325c7aa90ae651ce206e16990098dda\n",
      "Author: Szymon Prajs <S.Prajs@soton.ac.uk>\n",
      "Date:   Tue Nov 22 15:35:47 2016 +0000\n",
      "\n",
      "    My first commit\n"
     ]
    }
   ],
   "source": [
    "%%bash\n",
    "cd ~/Projects/git-test\n",
    "\n",
    "git log"
   ]
  },
  {
   "cell_type": "markdown",
   "metadata": {
    "collapsed": true
   },
   "source": [
    "## `git diff`\n",
    "\n",
    "`diff` is a very useful command showing you the lines where changes have been made since the last commit. Again if you're using `Atom` your text editor will always show you which lines have been edited by highlighting the edges of changed lines. Let's add a few more lines to our `first_file.txt` document and check what we've done. "
   ]
  },
  {
   "cell_type": "code",
   "execution_count": 14,
   "metadata": {
    "collapsed": false
   },
   "outputs": [
    {
     "name": "stdout",
     "output_type": "stream",
     "text": [
      "diff --git a/first_file.txt b/first_file.txt\n",
      "index 557db03..a641b98 100644\n",
      "--- a/first_file.txt\n",
      "+++ b/first_file.txt\n",
      "@@ -1 +1,2 @@\n",
      " Hello World\n",
      "+Added a new line for fun\n"
     ]
    }
   ],
   "source": [
    "%%bash\n",
    "cd ~/Projects/git-test\n",
    "\n",
    "git diff"
   ]
  },
  {
   "cell_type": "markdown",
   "metadata": {},
   "source": [
    "Now just add and commit the changes"
   ]
  },
  {
   "cell_type": "code",
   "execution_count": 15,
   "metadata": {
    "collapsed": false
   },
   "outputs": [
    {
     "name": "stdout",
     "output_type": "stream",
     "text": [
      "[master e3d89d7] Added more meaningful lines\n",
      " 1 file changed, 1 insertion(+)\n"
     ]
    }
   ],
   "source": [
    "%%bash\n",
    "cd ~/Projects/git-test\n",
    "\n",
    "git add --all\n",
    "git commit -m \"Added more meaningful lines\""
   ]
  },
  {
   "cell_type": "markdown",
   "metadata": {},
   "source": [
    "## `git mv` and `git rm`\n",
    "\n",
    "When moving files tracked by Git you should use `git rm` and `git mv` instead of the build in bash command. Git can normally figure out that files have been renamed if you `git add` the renamed file but it often struggles to realise that you have removed files this can be a real pain to fix so try to always use the Git commands.   "
   ]
  },
  {
   "cell_type": "code",
   "execution_count": 16,
   "metadata": {
    "collapsed": true
   },
   "outputs": [],
   "source": [
    "%%bash\n",
    "cd ~/Projects/git-test\n",
    "\n",
    "git mv first_file.txt README.md"
   ]
  },
  {
   "cell_type": "markdown",
   "metadata": {},
   "source": [
    "We can now `add` and `commit` this change. "
   ]
  },
  {
   "cell_type": "code",
   "execution_count": 17,
   "metadata": {
    "collapsed": false
   },
   "outputs": [
    {
     "name": "stdout",
     "output_type": "stream",
     "text": [
      "[master d449cb8] Create a README file\n",
      " 1 file changed, 0 insertions(+), 0 deletions(-)\n",
      " rename first_file.txt => README.md (100%)\n"
     ]
    }
   ],
   "source": [
    "%%bash\n",
    "cd ~/Projects/git-test\n",
    "\n",
    "git add --all\n",
    "git commit -m \"Create a README file\""
   ]
  },
  {
   "cell_type": "markdown",
   "metadata": {},
   "source": [
    "## GitHub\n",
    "\n",
    "While using Git by itself is a great productivity tool in its own right, it only becomes truly great when combined with remote repositories. GitHub is the \"official\" and most popular choice, although there are other options (GitLab, BitBucket etc.) and it's also possible to set up a custume server. Some universities and large companies use it in that way. \n",
    "\n",
    "GitHub provides you with a backup for your code and code history, easy way to publish it, track progress and a great way of collabating with others on your projects. In recent years it has been the number one choice for both scientists and opensource developers. \n",
    "\n",
    "Once you register on GitHub and go to your profile you will find an empty list of repositories in the top-right corner. You should create a new repository, give it a name and a brief description and initialise as an empty project for now. GitHub will then give you a very useful reminder of some of the most basic steps you will need to perform to sync your local and online repositories. Since we already have an existing project we can tell Git that we want to add a remote location, which we will call `origin`, at the below address. Your remote does not have to be called `origin` and can even have several remotes set up for your project.  "
   ]
  },
  {
   "cell_type": "code",
   "execution_count": 18,
   "metadata": {
    "collapsed": false
   },
   "outputs": [],
   "source": [
    "%%bash\n",
    "cd ~/Projects/git-test\n",
    "\n",
    "git remote add origin git@github.com:SzymonPrajs/git-test.git"
   ]
  },
  {
   "cell_type": "markdown",
   "metadata": {},
   "source": [
    "I have an SSH key set up for my GitHub account hence I don't need to use my login credentials here but if this is the forst time you are using GitHub you should use the HTTPS upload option for this example. However, I would strongly suggest that you set up an SSH key as soon as possible as it will make your life a lot easier in the long run!\n",
    "\n",
    "When using HTTPS you need to change the address of your remote repository slightly to\n",
    "```bash\n",
    "git remote add origin https://github.com/SzymonPrajs/git-test.git\n",
    "```"
   ]
  },
  {
   "cell_type": "markdown",
   "metadata": {},
   "source": [
    "## `git push`\n",
    "\n",
    "Finally, we can `push` our project to the remote. We need to tell Git that we want to push into the remote repository called `origin` from branch `master`. We will discuss branches in more details later. "
   ]
  },
  {
   "cell_type": "code",
   "execution_count": 20,
   "metadata": {
    "collapsed": false
   },
   "outputs": [
    {
     "name": "stderr",
     "output_type": "stream",
     "text": [
      "To git@github.com:SzymonPrajs/git-test.git\n",
      " * [new branch]      master -> master\n"
     ]
    }
   ],
   "source": [
    "%%bash\n",
    "cd ~/Projects/git-test\n",
    "\n",
    "git push origin master"
   ]
  },
  {
   "cell_type": "markdown",
   "metadata": {},
   "source": [
    "## `git pull`\n",
    "\n",
    "If you're syncing your code between multiple computers or working in a collaboration you will probably want to update your local version of the code from GitHub to your machine too. For this you can use the `pull` command. Technically, under the bonnet there are two command that get executed, first `fetch` which download the latest code and then `merge` which joins it into your project. If there are no conflicts in the project `pull` will work just fine and is all you need to do but later on we will discuss cases where you might need to do a bit more work when using `pull`.\n",
    "\n",
    "Let's make some changes into the repository using the online editing tools on GitHub and pull them back to our local repository"
   ]
  },
  {
   "cell_type": "code",
   "execution_count": 21,
   "metadata": {
    "collapsed": false
   },
   "outputs": [
    {
     "name": "stdout",
     "output_type": "stream",
     "text": [
      "Updating d449cb8..4f7fe4b\n",
      "Fast-forward\n",
      " README.md | 5 +++++\n",
      " 1 file changed, 5 insertions(+)\n"
     ]
    },
    {
     "name": "stderr",
     "output_type": "stream",
     "text": [
      "From github.com:SzymonPrajs/git-test\n",
      " * branch            master     -> FETCH_HEAD\n",
      "   d449cb8..4f7fe4b  master     -> origin/master\n"
     ]
    }
   ],
   "source": [
    "%%bash\n",
    "cd ~/Projects/git-test\n",
    "\n",
    "git pull origin master"
   ]
  },
  {
   "cell_type": "markdown",
   "metadata": {},
   "source": [
    "## Branching in Git\n",
    "\n",
    "So far we covered the basics of Git, now we can move on to what truly makes Git worth your time: branching. Regradless of the amount of coding you do day-to-day, you almost certainly came across a situation when you needed to write something that you are not sure will work straight away but know that at any point you may get an email from your supervisor/collaborator asking for just **that** exact plot that you can't make right now because your code is broken into bits and nothing is compiling. The usual solution for this might be to make backups of your code at every big milestone, so you end up in the situation where your folders looks something like this:\n",
    "\n",
    "```bash\n",
    "code\n",
    "code_old\n",
    "code_for_mark\n",
    "code_backup\n",
    "code_what_even_is_this\n",
    "```\n",
    "\n",
    "Branches remove this problem in a very neat solution. Let's first check what out default branch is"
   ]
  },
  {
   "cell_type": "code",
   "execution_count": 22,
   "metadata": {
    "collapsed": false
   },
   "outputs": [
    {
     "name": "stdout",
     "output_type": "stream",
     "text": [
      "* master\n"
     ]
    }
   ],
   "source": [
    "%%bash\n",
    "cd ~/Projects/git-test\n",
    "\n",
    "git branch"
   ]
  },
  {
   "cell_type": "markdown",
   "metadata": {},
   "source": [
    "By default Git creates a single `Master` branch. Let's add a new branch and call it `experiment`"
   ]
  },
  {
   "cell_type": "code",
   "execution_count": 23,
   "metadata": {
    "collapsed": false
   },
   "outputs": [],
   "source": [
    "%%bash\n",
    "cd ~/Projects/git-test\n",
    "\n",
    "git branch experiment"
   ]
  },
  {
   "cell_type": "markdown",
   "metadata": {},
   "source": [
    "Running `branch` again shows the newly added branch"
   ]
  },
  {
   "cell_type": "code",
   "execution_count": 24,
   "metadata": {
    "collapsed": false
   },
   "outputs": [
    {
     "name": "stdout",
     "output_type": "stream",
     "text": [
      "  experiment\n",
      "* master\n"
     ]
    }
   ],
   "source": [
    "%%bash\n",
    "cd ~/Projects/git-test\n",
    "\n",
    "git branch"
   ]
  },
  {
   "cell_type": "markdown",
   "metadata": {},
   "source": [
    "To make in the current working branch we can use the `checkout` command"
   ]
  },
  {
   "cell_type": "code",
   "execution_count": 32,
   "metadata": {
    "collapsed": false
   },
   "outputs": [
    {
     "name": "stdout",
     "output_type": "stream",
     "text": [
      "* experiment\n",
      "  master\n"
     ]
    },
    {
     "name": "stderr",
     "output_type": "stream",
     "text": [
      "Switched to branch 'experiment'\n"
     ]
    }
   ],
   "source": [
    "%%bash\n",
    "cd ~/Projects/git-test\n",
    "\n",
    "git checkout experiment\n",
    "git branch"
   ]
  },
  {
   "cell_type": "markdown",
   "metadata": {},
   "source": [
    "Let's add a few more lines of text to the `README.md` file. We can now add changes to the `experiment` branch without affecting the our `master` branch.  "
   ]
  },
  {
   "cell_type": "code",
   "execution_count": 33,
   "metadata": {
    "collapsed": false
   },
   "outputs": [
    {
     "name": "stdout",
     "output_type": "stream",
     "text": [
      "[experiment e3f5d03] Add some experimental changes\n",
      " 1 file changed, 2 insertions(+)\n"
     ]
    }
   ],
   "source": [
    "%%bash\n",
    "cd ~/Projects/git-test\n",
    "\n",
    "git add README.md\n",
    "git commit -m \"Add some experimental changes\""
   ]
  },
  {
   "cell_type": "markdown",
   "metadata": {},
   "source": [
    "Let's now go back to the master branch. We can see that our changes in the `experiment` branch had no affect on the current branch. "
   ]
  },
  {
   "cell_type": "code",
   "execution_count": 34,
   "metadata": {
    "collapsed": false
   },
   "outputs": [
    {
     "name": "stderr",
     "output_type": "stream",
     "text": [
      "Switched to branch 'master'\n"
     ]
    }
   ],
   "source": [
    "%%bash\n",
    "cd ~/Projects/git-test\n",
    "\n",
    "git checkout master"
   ]
  },
  {
   "cell_type": "markdown",
   "metadata": {},
   "source": [
    "To check the differences between our branches we can run the `diff` command. The syntax for comparing branches is a bit different and uses two dots to separate the branch names."
   ]
  },
  {
   "cell_type": "code",
   "execution_count": 35,
   "metadata": {
    "collapsed": false
   },
   "outputs": [
    {
     "name": "stdout",
     "output_type": "stream",
     "text": [
      "diff --git a/README.md b/README.md\n",
      "index 5dc8599..556dd95 100644\n",
      "--- a/README.md\n",
      "+++ b/README.md\n",
      "@@ -5,3 +5,5 @@ Added a new line for fun\n",
      " This is a STUPID line.\n",
      " \n",
      " This one is fine.\n",
      "+\n",
      "+Yet another line.\n"
     ]
    }
   ],
   "source": [
    "%%bash\n",
    "cd ~/Projects/git-test\n",
    "\n",
    "git diff master..experiment"
   ]
  },
  {
   "cell_type": "markdown",
   "metadata": {},
   "source": [
    "## `git merge`\n",
    "\n",
    "Once your code is ready and stable you may want to push the changes into the master branch. In most cases this is pretty straight forward. You must rememeber to switch to the branch you want to end up with before merging. In our case that is `master`. You then do the following"
   ]
  },
  {
   "cell_type": "code",
   "execution_count": 36,
   "metadata": {
    "collapsed": false
   },
   "outputs": [
    {
     "name": "stdout",
     "output_type": "stream",
     "text": [
      "Updating 4f7fe4b..e3f5d03\n",
      "Fast-forward\n",
      " README.md | 2 ++\n",
      " 1 file changed, 2 insertions(+)\n"
     ]
    }
   ],
   "source": [
    "%%bash\n",
    "cd ~/Projects/git-test\n",
    "\n",
    "git merge experiment"
   ]
  },
  {
   "cell_type": "markdown",
   "metadata": {},
   "source": [
    "Both of our branches still exist and are now synced with each other. We can push the master branch to GitHub and make the latest version of the code live"
   ]
  },
  {
   "cell_type": "code",
   "execution_count": 37,
   "metadata": {
    "collapsed": false
   },
   "outputs": [
    {
     "name": "stderr",
     "output_type": "stream",
     "text": [
      "To git@github.com:SzymonPrajs/git-test.git\n",
      "   4f7fe4b..e3f5d03  master -> master\n"
     ]
    }
   ],
   "source": [
    "%%bash\n",
    "cd ~/Projects/git-test\n",
    "\n",
    "git push origin master"
   ]
  },
  {
   "cell_type": "markdown",
   "metadata": {},
   "source": [
    "## Solving conflicts\n",
    "\n",
    "Probably the most common issue people encounter when using Git is conflicts when merging branches that are out of sync with each other. Let's try an to make a bit of a mess in our code and modify the same line of code on both `master` and `experiment` branches. First make changes in the master branch and commit changes"
   ]
  },
  {
   "cell_type": "code",
   "execution_count": 38,
   "metadata": {
    "collapsed": false
   },
   "outputs": [
    {
     "name": "stdout",
     "output_type": "stream",
     "text": [
      "[master fe5a9c0] Git is not going to like this\n",
      " 1 file changed, 1 insertion(+), 1 deletion(-)\n"
     ]
    }
   ],
   "source": [
    "%%bash\n",
    "cd ~/Projects/git-test\n",
    "\n",
    "git add README.md\n",
    "git commit -m \"Git is not going to like this\""
   ]
  },
  {
   "cell_type": "markdown",
   "metadata": {},
   "source": [
    "Then switch to the experiment branch and make some changes there too in the same line as before"
   ]
  },
  {
   "cell_type": "code",
   "execution_count": 39,
   "metadata": {
    "collapsed": false
   },
   "outputs": [
    {
     "name": "stderr",
     "output_type": "stream",
     "text": [
      "Switched to branch 'experiment'\n"
     ]
    }
   ],
   "source": [
    "%%bash\n",
    "cd ~/Projects/git-test\n",
    "\n",
    "git checkout experiment"
   ]
  },
  {
   "cell_type": "code",
   "execution_count": 40,
   "metadata": {
    "collapsed": false
   },
   "outputs": [
    {
     "name": "stdout",
     "output_type": "stream",
     "text": [
      "[experiment 38e3977] What will happen now\n",
      " 1 file changed, 1 insertion(+), 1 deletion(-)\n"
     ]
    }
   ],
   "source": [
    "%%bash\n",
    "cd ~/Projects/git-test\n",
    "\n",
    "git add README.md\n",
    "git commit -m \"What will happen now\""
   ]
  },
  {
   "cell_type": "code",
   "execution_count": 41,
   "metadata": {
    "collapsed": false
   },
   "outputs": [
    {
     "name": "stdout",
     "output_type": "stream",
     "text": [
      "diff --git a/README.md b/README.md\n",
      "index 86f5dcb..23ee69d 100644\n",
      "--- a/README.md\n",
      "+++ b/README.md\n",
      "@@ -2,7 +2,7 @@ Hello World\n",
      " \n",
      " Added a new line for fun\n",
      " \n",
      "-This is a VERY STUPID line.\n",
      "+This is a CRAZY line.\n",
      " \n",
      " This one is fine.\n",
      " \n"
     ]
    }
   ],
   "source": [
    "%%bash\n",
    "cd ~/Projects/git-test\n",
    "\n",
    "git diff master..experiment"
   ]
  },
  {
   "cell_type": "markdown",
   "metadata": {},
   "source": [
    "And now we can try to merge the code"
   ]
  },
  {
   "cell_type": "code",
   "execution_count": 42,
   "metadata": {
    "collapsed": false
   },
   "outputs": [
    {
     "name": "stdout",
     "output_type": "stream",
     "text": [
      "Auto-merging README.md\n",
      "CONFLICT (content): Merge conflict in README.md\n",
      "Automatic merge failed; fix conflicts and then commit the result.\n"
     ]
    },
    {
     "name": "stderr",
     "output_type": "stream",
     "text": [
      "Switched to branch 'master'\n"
     ]
    }
   ],
   "source": [
    "%%bash\n",
    "cd ~/Projects/git-test\n",
    "\n",
    "git checkout master\n",
    "\n",
    "git merge experiment"
   ]
  },
  {
   "cell_type": "markdown",
   "metadata": {},
   "source": [
    "As expected this did not work so let's see what changes Git made in our `README.md` file"
   ]
  },
  {
   "cell_type": "code",
   "execution_count": 43,
   "metadata": {
    "collapsed": false
   },
   "outputs": [
    {
     "name": "stdout",
     "output_type": "stream",
     "text": [
      "Hello World\n",
      "\n",
      "Added a new line for fun\n",
      "\n",
      "<<<<<<< HEAD\n",
      "This is a VERY STUPID line.\n",
      "=======\n",
      "This is a CRAZY line.\n",
      ">>>>>>> experiment\n",
      "\n",
      "This one is fine.\n",
      "\n",
      "Yet another line.\n"
     ]
    }
   ],
   "source": [
    "%%bash\n",
    "cd ~/Projects/git-test\n",
    "\n",
    "cat README.md"
   ]
  },
  {
   "cell_type": "markdown",
   "metadata": {},
   "source": [
    "There are many great GUIs one can use to make fixing conflucts easier but in this simple case al we need to do is to delete the lines that Git has added and decide on what we want to do with the code. In this case I will call it\n",
    "```bash\n",
    "This is a VERY STUPID, CRAZY line.\n",
    "```\n",
    "\n",
    "We can now add and commit the changes"
   ]
  },
  {
   "cell_type": "code",
   "execution_count": 44,
   "metadata": {
    "collapsed": false
   },
   "outputs": [
    {
     "name": "stdout",
     "output_type": "stream",
     "text": [
      "[master 7e51052] Fixed conflicts\n"
     ]
    }
   ],
   "source": [
    "%%bash\n",
    "cd ~/Projects/git-test\n",
    "\n",
    "git add README.md\n",
    "git commit -m \"Fixed conflicts\""
   ]
  },
  {
   "cell_type": "markdown",
   "metadata": {},
   "source": [
    "## `git log`\n",
    "\n",
    "We've already used `git log` before but would like to show you a more useful way of displaying it in cases where you are working with multiple branches. By default Git gives you something like this"
   ]
  },
  {
   "cell_type": "code",
   "execution_count": 45,
   "metadata": {
    "collapsed": false
   },
   "outputs": [
    {
     "name": "stdout",
     "output_type": "stream",
     "text": [
      "commit 7e51052a07e72abfda7778cce7f536670a52c37d\n",
      "Merge: fe5a9c0 38e3977\n",
      "Author: Szymon Prajs <S.Prajs@soton.ac.uk>\n",
      "Date:   Tue Nov 22 16:52:28 2016 +0000\n",
      "\n",
      "    Fixed conflicts\n",
      "\n",
      "commit 38e3977c6a2a1fcfeb7911cac1efee043da46b1e\n",
      "Author: Szymon Prajs <S.Prajs@soton.ac.uk>\n",
      "Date:   Tue Nov 22 16:13:01 2016 +0000\n",
      "\n",
      "    What will happen now\n",
      "\n",
      "commit fe5a9c034cb8e614e00bc1b4ff5172dca63428c7\n",
      "Author: Szymon Prajs <S.Prajs@soton.ac.uk>\n",
      "Date:   Tue Nov 22 16:06:51 2016 +0000\n",
      "\n",
      "    Git is not going to like this\n",
      "\n",
      "commit e3f5d037d244f19a477c4d519daeb38e4aa9ccda\n",
      "Author: Szymon Prajs <S.Prajs@soton.ac.uk>\n",
      "Date:   Tue Nov 22 16:02:31 2016 +0000\n",
      "\n",
      "    Add some experimental changes\n",
      "\n",
      "commit 4f7fe4b4dbe9c85a575ba0548b9ad6a6cbd6932e\n",
      "Author: Szymon Prajs <S.Prajs@soton.ac.uk>\n",
      "Date:   Tue Nov 22 15:53:09 2016 +0000\n",
      "\n",
      "    Update README.md\n",
      "\n",
      "commit d449cb8f5ca7da84e4ebb5c8876497989cce8f94\n",
      "Author: Szymon Prajs <S.Prajs@soton.ac.uk>\n",
      "Date:   Tue Nov 22 15:39:22 2016 +0000\n",
      "\n",
      "    Create a README file\n",
      "\n",
      "commit e3d89d7c7873f635c8313ba092e10ba4e7b0ea8a\n",
      "Author: Szymon Prajs <S.Prajs@soton.ac.uk>\n",
      "Date:   Tue Nov 22 15:38:09 2016 +0000\n",
      "\n",
      "    Added more meaningful lines\n",
      "\n",
      "commit af11ce3b3325c7aa90ae651ce206e16990098dda\n",
      "Author: Szymon Prajs <S.Prajs@soton.ac.uk>\n",
      "Date:   Tue Nov 22 15:35:47 2016 +0000\n",
      "\n",
      "    My first commit\n"
     ]
    }
   ],
   "source": [
    "%%bash\n",
    "cd ~/Projects/git-test\n",
    "\n",
    "git log"
   ]
  },
  {
   "cell_type": "markdown",
   "metadata": {},
   "source": [
    "This is pretty difficult to read once we get a lot of commits and does not tell us anything about the branching in our project. Adding the `--oneline --topo-order --graph` flags come in very handy and make our output much neater with a graphical representation of our branches."
   ]
  },
  {
   "cell_type": "code",
   "execution_count": 46,
   "metadata": {
    "collapsed": false
   },
   "outputs": [
    {
     "name": "stdout",
     "output_type": "stream",
     "text": [
      "*   7e51052 Fixed conflicts\n",
      "|\\  \n",
      "| * 38e3977 What will happen now\n",
      "* | fe5a9c0 Git is not going to like this\n",
      "|/  \n",
      "* e3f5d03 Add some experimental changes\n",
      "* 4f7fe4b Update README.md\n",
      "* d449cb8 Create a README file\n",
      "* e3d89d7 Added more meaningful lines\n",
      "* af11ce3 My first commit\n"
     ]
    }
   ],
   "source": [
    "%%bash\n",
    "cd ~/Projects/git-test\n",
    "\n",
    "git log --oneline --topo-order --graph"
   ]
  },
  {
   "cell_type": "markdown",
   "metadata": {},
   "source": [
    "We can make an allias to this inside Git. You only need to set this up once"
   ]
  },
  {
   "cell_type": "code",
   "execution_count": 47,
   "metadata": {
    "collapsed": false
   },
   "outputs": [
    {
     "name": "stdout",
     "output_type": "stream",
     "text": [
      "*   7e51052 Fixed conflicts\n",
      "|\\  \n",
      "| * 38e3977 What will happen now\n",
      "* | fe5a9c0 Git is not going to like this\n",
      "|/  \n",
      "* e3f5d03 Add some experimental changes\n",
      "* 4f7fe4b Update README.md\n",
      "* d449cb8 Create a README file\n",
      "* e3d89d7 Added more meaningful lines\n",
      "* af11ce3 My first commit\n"
     ]
    }
   ],
   "source": [
    "%%bash\n",
    "cd ~/Projects/git-test\n",
    "\n",
    "git config --global alias.slog \"log --oneline --topo-order --graph\"\n",
    "\n",
    "git slog"
   ]
  },
  {
   "cell_type": "markdown",
   "metadata": {
    "collapsed": true
   },
   "source": [
    "## .gitignore"
   ]
  },
  {
   "cell_type": "markdown",
   "metadata": {},
   "source": [
    "At the beginning of this tutorial we talked about the problem of using `git add --all` in a project with a lot of temporary files or data. Git allows you to add a `.gitignore` file which tells it which files it should not be traching and suggesting for `git add` allowing you to use `git add --all` without accidentally adding unwanted files.\n",
    "\n",
    "First we can add a few place holder files"
   ]
  },
  {
   "cell_type": "code",
   "execution_count": 48,
   "metadata": {
    "collapsed": false
   },
   "outputs": [
    {
     "name": "stdout",
     "output_type": "stream",
     "text": [
      "README.md\n",
      "test.dat\n",
      "test.out\n"
     ]
    }
   ],
   "source": [
    "%%bash\n",
    "cd ~/Projects/git-test\n",
    "\n",
    "touch test.dat test.out\n",
    "ls"
   ]
  },
  {
   "cell_type": "markdown",
   "metadata": {},
   "source": [
    "Git will suggest these to be added as new files for the next commit "
   ]
  },
  {
   "cell_type": "code",
   "execution_count": 49,
   "metadata": {
    "collapsed": false
   },
   "outputs": [
    {
     "name": "stdout",
     "output_type": "stream",
     "text": [
      "On branch master\n",
      "Untracked files:\n",
      "  (use \"git add <file>...\" to include in what will be committed)\n",
      "\n",
      "\ttest.dat\n",
      "\ttest.out\n",
      "\n",
      "nothing added to commit but untracked files present (use \"git add\" to track)\n"
     ]
    }
   ],
   "source": [
    "%%bash\n",
    "cd ~/Projects/git-test\n",
    "\n",
    "git status"
   ]
  },
  {
   "cell_type": "markdown",
   "metadata": {},
   "source": [
    "We can create a `.gitignore` file and add two new lines to it, telling Git to ignore everything with the expentions `.dat` and `.out`  "
   ]
  },
  {
   "cell_type": "code",
   "execution_count": 54,
   "metadata": {
    "collapsed": true
   },
   "outputs": [],
   "source": [
    "%%bash\n",
    "cd ~/Projects/git-test\n",
    "\n",
    "touch .gitignore\n",
    "echo '*.dat' >> .gitignore\n",
    "echo '*.out' >> .gitignore"
   ]
  },
  {
   "cell_type": "markdown",
   "metadata": {},
   "source": [
    "Finally we need to add and commit the changes for `.gitignore`"
   ]
  },
  {
   "cell_type": "code",
   "execution_count": 56,
   "metadata": {
    "collapsed": false
   },
   "outputs": [
    {
     "name": "stdout",
     "output_type": "stream",
     "text": [
      "[master 2b909c6] Added .gitignore\n",
      " 1 file changed, 2 insertions(+)\n"
     ]
    }
   ],
   "source": [
    "%%bash\n",
    "cd ~/Projects/git-test\n",
    "\n",
    "git add .gitignore\n",
    "git commit -m \"Added .gitignore\""
   ]
  },
  {
   "cell_type": "code",
   "execution_count": 57,
   "metadata": {
    "collapsed": false
   },
   "outputs": [
    {
     "name": "stdout",
     "output_type": "stream",
     "text": [
      "On branch master\n",
      "nothing to commit, working directory clean\n"
     ]
    }
   ],
   "source": [
    "%%bash\n",
    "cd ~/Projects/git-test\n",
    "\n",
    "git status"
   ]
  },
  {
   "cell_type": "markdown",
   "metadata": {
    "collapsed": true
   },
   "source": [
    "## Switch code to an older state\n",
    "\n",
    "There are many ways of undoing the changes you have made to your repositories. These vary depending on whether you have already commited the changes and if you only want to run the code temporarily or work an older version of the code. One could use the `reset`, `revert` or `cherry-pick` functions, however, perhapse the most useful method is to simply create a new branch which is a copy of the code at a point of a chosen commit. \n",
    "\n",
    "As mentioned before, commits are labeled internally by Git using SHA hash keys. You can find their long forms by running the `log` command or short versions using `slog`. These are also displayed on GitHub next to each commit. You can use either long or short form of the key.\n",
    "\n",
    "To create a new branch we can make a small shortcut and use the `git checkout -b [name]` command which makes a new branch called [name] and immediately switched to it. Adding a commit ID after the new branch name tells Git to branch the code at the point of selected commit.   "
   ]
  },
  {
   "cell_type": "code",
   "execution_count": 58,
   "metadata": {
    "collapsed": false
   },
   "outputs": [
    {
     "name": "stderr",
     "output_type": "stream",
     "text": [
      "Switched to a new branch 'old_code'\n"
     ]
    }
   ],
   "source": [
    "%%bash\n",
    "cd ~/Projects/git-test\n",
    "\n",
    "git checkout -b old_code e3f5d03"
   ]
  },
  {
   "cell_type": "markdown",
   "metadata": {},
   "source": [
    "If we look at the `log` now we will find the code at the state it was several commits ago."
   ]
  },
  {
   "cell_type": "code",
   "execution_count": 1,
   "metadata": {
    "collapsed": false
   },
   "outputs": [
    {
     "name": "stdout",
     "output_type": "stream",
     "text": [
      "* 2b909c6 Added .gitignore\n",
      "* 561b216 Added .gitignore\n",
      "*   7e51052 Fixed conflicts\n",
      "|\\  \n",
      "| * 38e3977 What will happen now\n",
      "* | fe5a9c0 Git is not going to like this\n",
      "|/  \n",
      "* e3f5d03 Add some experimental changes\n",
      "* 4f7fe4b Update README.md\n",
      "* d449cb8 Create a README file\n",
      "* e3d89d7 Added more meaningful lines\n",
      "* af11ce3 My first commit\n"
     ]
    }
   ],
   "source": [
    "%%bash\n",
    "cd ~/Projects/git-test\n",
    "\n",
    "git slog"
   ]
  },
  {
   "cell_type": "code",
   "execution_count": null,
   "metadata": {
    "collapsed": true
   },
   "outputs": [],
   "source": []
  }
 ],
 "metadata": {
  "anaconda-cloud": {},
  "kernelspec": {
   "display_name": "Python [conda root]",
   "language": "python",
   "name": "conda-root-py"
  },
  "language_info": {
   "codemirror_mode": {
    "name": "ipython",
    "version": 2
   },
   "file_extension": ".py",
   "mimetype": "text/x-python",
   "name": "python",
   "nbconvert_exporter": "python",
   "pygments_lexer": "ipython2",
   "version": "2.7.12"
  },
  "nbpresent": {
   "slides": {},
   "themes": {}
  }
 },
 "nbformat": 4,
 "nbformat_minor": 0
}
